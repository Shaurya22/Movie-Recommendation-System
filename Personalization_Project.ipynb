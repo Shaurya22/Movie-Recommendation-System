{
  "nbformat": 4,
  "nbformat_minor": 0,
  "metadata": {
    "colab": {
      "name": " Personalization_Project(Sanchya).ipynb",
      "provenance": [],
      "collapsed_sections": []
    },
    "kernelspec": {
      "name": "python3",
      "display_name": "Python 3"
    }
  },
  "cells": [
    {
      "cell_type": "markdown",
      "metadata": {
        "id": "RGOvZvQJtgtb"
      },
      "source": [
        "<H1><b>&emsp;&emsp;&emsp;&emsp;&emsp;MOVIE RECOMMENDATIONS PROJECT</b></H1>\n",
        "<br><p>&emsp;&emsp;&emsp;&emsp;&emsp;&emsp;&emsp;&emsp;&emsp;&emsp;&emsp;&emsp;&emsp;&emsp;&emsp;&emsp;&emsp;&emsp;&emsp;Submitted by-\n",
        "<br>&emsp;&emsp;&emsp;&emsp;&emsp;&emsp;&emsp;&emsp;&emsp;&emsp;&emsp;&emsp;&emsp;&emsp;&emsp;&emsp;&emsp;Aasma John (adj2141)\n",
        "<br>&emsp;&emsp;&emsp;&emsp;&emsp;&emsp;&emsp;&emsp;&emsp;&emsp;&emsp;&emsp;&emsp;&emsp;&emsp;&emsp;&emsp;Ravleen Singh Virdi (rv2428)\n",
        "<br>&emsp;&emsp;&emsp;&emsp;&emsp;&emsp;&emsp;&emsp;&emsp;&emsp;&emsp;&emsp;&emsp;&emsp;&emsp;&emsp;&emsp;Sanchya Sahay (ss5901)\n",
        "<br>&emsp;&emsp;&emsp;&emsp;&emsp;&emsp;&emsp;&emsp;&emsp;&emsp;&emsp;&emsp;&emsp;&emsp;&emsp;&emsp;&emsp;Shaurya Jadeja (sjj2126)</p>\n",
        "<br><br><br><br><br><br><br><br>\n",
        "\n",
        "\n",
        "\n"
      ]
    },
    {
      "cell_type": "markdown",
      "metadata": {
        "id": "s79isjVHqACp"
      },
      "source": [
        "#Objective"
      ]
    },
    {
      "cell_type": "markdown",
      "metadata": {
        "id": "a08Za5Jue0nt"
      },
      "source": [
        "The main objective of this project is to develop a production-quality hybrid movie recommendation system that can provide recommendation to any user with more than 6 rated movies. For this project, we are using a hybrid model consisting of an <b>ALS model</b>, which is Stage 1, and then <b>content-based algorithm,</b>  which is Stage 2 on Movie Lens Dataset. Because we are using a series hybrid, Stage 1 is measured through Recall metric and Stage 2 is evaluated through Precision metric. We have also used <b> Coverage, Novelty and Serendipity </b> to measure the performance of the model.\r\n",
        "\r\n",
        "The model is finally tested against baseline models from Assignment 2 (average baseline mode, ALS model) to understand how well our new model performs.\r\n",
        "\r\n",
        "The intention of the model is to provide the user more accurate recommendations that will improve the overall experience and keep the user wanting to come back, hence leading to increase in user retention and revenue."
      ]
    },
    {
      "cell_type": "markdown",
      "metadata": {
        "id": "hDkU_5Lbr-YT"
      },
      "source": [
        "##Importing the libraries"
      ]
    },
    {
      "cell_type": "code",
      "metadata": {
        "id": "ApAKgJ3EcWQa",
        "colab": {
          "base_uri": "https://localhost:8080/",
          "height": 0
        },
        "outputId": "7acb4483-926e-4a7e-a78d-45648a6215c9"
      },
      "source": [
        "import time\r\n",
        "import numpy as np\r\n",
        "import pandas as pd\r\n",
        "import seaborn as sns\r\n",
        "import matplotlib.pyplot as plt\r\n",
        "!pip install pyspark\r\n",
        "from pyspark import SparkContext, SQLContext\r\n",
        "\r\n",
        "from pyspark.sql.functions import *\r\n",
        "from pyspark.sql import functions as F\r\n",
        "\r\n",
        "from pyspark.ml.recommendation import ALS\r\n",
        "from pyspark.ml.evaluation import RegressionEvaluator\r\n",
        "from pyspark.ml.tuning import CrossValidator, ParamGridBuilder\r\n",
        "\r\n",
        "from sklearn.metrics.pairwise import cosine_similarity\r\n",
        "from scipy import sparse\r\n",
        "from sklearn.metrics import precision_score\r\n",
        "\r\n",
        "from sklearn.feature_extraction.text import TfidfVectorizer\r\n",
        "from sklearn.metrics.pairwise import linear_kernel"
      ],
      "execution_count": 44,
      "outputs": [
        {
          "output_type": "stream",
          "text": [
            "Requirement already satisfied: pyspark in /usr/local/lib/python3.6/dist-packages (3.0.1)\n",
            "Requirement already satisfied: py4j==0.10.9 in /usr/local/lib/python3.6/dist-packages (from pyspark) (0.10.9)\n"
          ],
          "name": "stdout"
        }
      ]
    },
    {
      "cell_type": "code",
      "metadata": {
        "id": "HfKnVnlkkgkX"
      },
      "source": [
        "data = pd.read_csv(\"ratings.csv\")\r\n",
        "data['timestamp'] =pd.to_datetime(data['timestamp'],unit='s').dt.year\r\n",
        "movies = pd.read_csv('movies.csv')"
      ],
      "execution_count": 3,
      "outputs": []
    },
    {
      "cell_type": "markdown",
      "metadata": {
        "id": "W8xVm2vDr-lM"
      },
      "source": [
        "##Datasampling\n",
        "We are using the same data sampling technique that we used in our previous assignment."
      ]
    },
    {
      "cell_type": "code",
      "metadata": {
        "id": "aOL2qKo5sFUM"
      },
      "source": [
        "def sampling(subset):\r\n",
        "    ###### selecting users that have rated >149 movies and <554 movies based on percentiles to balance the skewness\r\n",
        "    user_rtgs_cnt = (subset.groupby(['userId']).count()).iloc[:,0:1].reset_index().rename(columns={\"movieId\":\"ratings_count\"})\r\n",
        "    quantile_user_1=user_rtgs_cnt.quantile([.20, .40, .60, .70, .80, .90, .95, .97, .99, 1], axis = 0).drop([\"userId\"],axis=1)\r\n",
        "    # print(quantile_user_1)\r\n",
        "    user_rtgs_cnt=user_rtgs_cnt[user_rtgs_cnt.ratings_count >= quantile_user_1.iloc[5,0]] #80th percentile\r\n",
        "    user_rtgs_cnt=user_rtgs_cnt[user_rtgs_cnt.ratings_count < quantile_user_1.iloc[8,0]] #99th percentile\r\n",
        "    \r\n",
        "    subset = subset.merge(user_rtgs_cnt[['userId']],on=\"userId\", how=\"inner\")  \r\n",
        "\r\n",
        "\r\n",
        "    \r\n",
        "    ###### filtering movies and removing least rated and abnormally highly rated to balance skewness\r\n",
        "    movie_count = (subset[[\"movieId\",\"rating\"]].groupby(['movieId']).count()).reset_index().rename(columns={\"rating\":\"ratings_per_movie\"})\r\n",
        "    \r\n",
        "    movie_count = movie_count[movie_count.ratings_per_movie >= 250].reset_index(drop=True)\r\n",
        "    quantile_movie_1 = movie_count.quantile([0.1, .50, .75, .80, .85, .90, .95, .97, .99, 1], axis = 0).drop([\"movieId\"],axis=1)\r\n",
        "    # print(quantile_movie_1)\r\n",
        "    movie_count = movie_count[movie_count.ratings_per_movie < quantile_movie_1.iloc[5,0]].reset_index(drop=True) #90th percentile\r\n",
        "\r\n",
        "    quantile_movie_1 = movie_count.quantile([0.1, .50, .75, .80, .85, .90, .95, .97, .99, 1], axis = 0).drop([\"movieId\"],axis=1)\r\n",
        "    subset = subset.merge(movie_count[['movieId']],on=\"movieId\", how=\"inner\")  \r\n",
        "    movie_count[\"popularity_category\"] = np.where(movie_count.ratings_per_movie <= quantile_movie_1.iloc[6,0],\"popular\",\"very popular\")\r\n",
        "\r\n",
        "    sampled_ratings=pd.DataFrame()\r\n",
        "    \r\n",
        "    total_movies = 800\r\n",
        "    for i in movie_count.popularity_category.unique():\r\n",
        "        if i == \"popular\":\r\n",
        "          sampled_ratings=sampled_ratings.append(movie_count[movie_count.popularity_category==i]. \\\r\n",
        "                                               sample(n=int(0.80*total_movies), random_state=10))\r\n",
        "        else:\r\n",
        "          sampled_ratings=sampled_ratings.append(movie_count[movie_count.popularity_category==i]. \\\r\n",
        "                                               sample(n=int(0.20*total_movies), random_state=10))\r\n",
        "  \r\n",
        "        \r\n",
        "    sampled_ratings.reset_index(drop=True, inplace=True)\r\n",
        "    \r\n",
        "    # Select user rows for only those movies which have been sampled\r\n",
        "    subset = subset.merge(sampled_ratings[['movieId']],on=\"movieId\", how=\"inner\")\r\n",
        "    \r\n",
        "\r\n",
        "    ###### checking user engagement here. Taking users who have rated >70 movies\r\n",
        "    user_rtgs_cnt_2=(subset.groupby(['userId']).count()).iloc[:,0:1].reset_index().rename(columns={\"movieId\":\"rating_freq\"})\r\n",
        "    quantile_user_2=user_rtgs_cnt_2.quantile([.10, .20, .30, .40, .50, .75, .80, .85, .90, .95, 1], axis = 0).drop([\"userId\"],axis=1)\r\n",
        "    # print(quantile_user_2)\r\n",
        "    user_rtgs_cnt_2 = user_rtgs_cnt_2[user_rtgs_cnt_2.rating_freq>quantile_user_2.iloc[9,0]] #95th percentile  \r\n",
        "    subset = subset.merge(user_rtgs_cnt_2[['userId']],on=\"userId\", how=\"inner\")\r\n",
        "    \r\n",
        "    ######\r\n",
        "    # convert to train and test set: keep same no of users in both train n test, sample their movies rated based on 80/20 in train/test\r\n",
        "    df_train = subset.groupby(['userId']).apply(lambda x : x.sample(frac=0.7,random_state=10)).reset_index(drop=True)\r\n",
        "    z = subset.merge(df_train,how='outer', on=['userId','movieId','rating','timestamp'], indicator=True)\r\n",
        "    df_test = z.query('_merge != \"both\"')\r\n",
        "    df_test = df_test.drop(['_merge'],axis=1)\r\n",
        "    df_test.reset_index(drop=True, inplace=True)\r\n",
        "    \r\n",
        "    \r\n",
        "    return subset, df_train, df_test\r\n",
        "\r\n",
        "df, df_train, df_test = sampling(data)\r\n",
        "\r\n",
        "\r\n"
      ],
      "execution_count": 4,
      "outputs": []
    },
    {
      "cell_type": "markdown",
      "metadata": {
        "id": "fiAfoRnWhzNO"
      },
      "source": [
        "**Let's create a results dataset that stores evaluation metrics for all models used here:**"
      ]
    },
    {
      "cell_type": "code",
      "metadata": {
        "id": "jbm5YBjXhrmt"
      },
      "source": [
        "models = [ ('Baseline','0') ,\n",
        "             ('Baseline_ALS','0'),\n",
        "             ('Hybrid','0')  ]\n",
        "results = pd.DataFrame(models, columns = ['Model','Precision_Score']) "
      ],
      "execution_count": 32,
      "outputs": []
    },
    {
      "cell_type": "markdown",
      "metadata": {
        "id": "mC7RowbusLjU"
      },
      "source": [
        "#Baseline Model "
      ]
    },
    {
      "cell_type": "markdown",
      "metadata": {
        "id": "oXGHazyy7_vw"
      },
      "source": [
        "##1) Baseline model (from Assignment 2)\n",
        "\n",
        "*   This model predicts the rating for ith user for jth item, by using the average of average rating for jth item and ith user. We have shown the accuracy of this baseline model on our test data set by predicting the rating for each user-item pair in the test data set."
      ]
    },
    {
      "cell_type": "code",
      "metadata": {
        "id": "KAIxTdKHsLzg",
        "colab": {
          "base_uri": "https://localhost:8080/",
          "height": 142
        },
        "outputId": "cf819468-ce69-46b0-aa62-2dd21b4f1128"
      },
      "source": [
        "#Baseline model \r\n",
        "def base_model(df_train, df_test, results):\r\n",
        "    avg_movie_rtg = (df_train[[\"movieId\",\"rating\"]].groupby(['movieId']).\\\r\n",
        "                     mean()).reset_index().rename(columns={\"rating\":\"movie_average\"})\r\n",
        "    avg_user_rtg = (df_train[[\"userId\",\"rating\"]].groupby(['userId']).\\\r\n",
        "                     mean()).reset_index().rename(columns={\"rating\":\"user_average\"})\r\n",
        "    df_test_baseline = df_test.merge(avg_movie_rtg,how='inner',on='movieId')\r\n",
        "    df_test_baseline = df_test_baseline.merge(avg_user_rtg,how='inner',on='userId')\r\n",
        "    df_test_baseline['predictions'] = (df_test_baseline['movie_average'] + df_test_baseline['user_average'])/2\r\n",
        "    df_test_baseline[\"relevant_actual\"]= np.where(df_test_baseline['rating']>=3.5, 1, 0)\r\n",
        "    df_test_baseline[\"relevant_prediction\"]= np.where(df_test_baseline['predictions']>=3.5, 1, 0)\r\n",
        "    precision = precision_score(df_test_baseline[\"relevant_actual\"], df_test_baseline[\"relevant_prediction\"])\r\n",
        "    \r\n",
        "    results['Precision_Score'].iloc[0] = precision\r\n",
        "    return precision\r\n",
        "\r\n",
        "base_model(df_train, df_test, results)"
      ],
      "execution_count": 33,
      "outputs": [
        {
          "output_type": "execute_result",
          "data": {
            "text/html": [
              "<div>\n",
              "<style scoped>\n",
              "    .dataframe tbody tr th:only-of-type {\n",
              "        vertical-align: middle;\n",
              "    }\n",
              "\n",
              "    .dataframe tbody tr th {\n",
              "        vertical-align: top;\n",
              "    }\n",
              "\n",
              "    .dataframe thead th {\n",
              "        text-align: right;\n",
              "    }\n",
              "</style>\n",
              "<table border=\"1\" class=\"dataframe\">\n",
              "  <thead>\n",
              "    <tr style=\"text-align: right;\">\n",
              "      <th></th>\n",
              "      <th>Model</th>\n",
              "      <th>Precision_Score</th>\n",
              "    </tr>\n",
              "  </thead>\n",
              "  <tbody>\n",
              "    <tr>\n",
              "      <th>0</th>\n",
              "      <td>Baseline</td>\n",
              "      <td>0.846974</td>\n",
              "    </tr>\n",
              "    <tr>\n",
              "      <th>1</th>\n",
              "      <td>Baseline_ALS</td>\n",
              "      <td>0</td>\n",
              "    </tr>\n",
              "    <tr>\n",
              "      <th>2</th>\n",
              "      <td>Hybrid</td>\n",
              "      <td>0</td>\n",
              "    </tr>\n",
              "  </tbody>\n",
              "</table>\n",
              "</div>"
            ],
            "text/plain": [
              "          Model Precision_Score\n",
              "0      Baseline        0.846974\n",
              "1  Baseline_ALS               0\n",
              "2        Hybrid               0"
            ]
          },
          "metadata": {
            "tags": []
          },
          "execution_count": 33
        }
      ]
    },
    {
      "cell_type": "markdown",
      "metadata": {
        "id": "kJt-pVDiiRqF"
      },
      "source": [
        "##2) Collaborative Filtering Model (from Assignment 2) - ALS\n",
        "\n",
        "#ALS/Matrix factorization method\n",
        "Matrix Factorization is a technique to discover the latent factors from the ratings matrix and to map the items and the users against those factors. Consider a ratings matrix R with ratings by n users for m items. The ratings matrix R will have n×m rows and columns. The matrix R can be decomposed into two thin matrices P and Q. P will have n×f dimensions and Q will have m×f dimensions where f is the number of latent factors. In the figure below, there are two latent factors. The matrix R can be decomposed in such a way that the dot product of the matrix P and transposed Q will yield a matrix with n×m dimensions that closely approximates the original ratings matrix R.\n",
        "\n",
        "![image.png](data:image/png;base64,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)\n",
        "\n",
        "![image.png](data:image/png;base64,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)"
      ]
    },
    {
      "cell_type": "code",
      "metadata": {
        "id": "tMVTQEsn5ffs"
      },
      "source": [
        "#1 ALS\n",
        "def train_als_model(train_set):\n",
        "  #Initializing ALS with user, movie and ratings column\n",
        "  model = ALS(userCol=\"userId\", itemCol=\"movieId\", ratingCol=\"rating\", nonnegative=True, coldStartStrategy=\"drop\")\n",
        "  \n",
        "  #Creating a grid of parameters to search over through ParamGridBuilder\n",
        "  param_grid = ParamGridBuilder().addGrid(model.rank, [25, 50, 75, 100]).addGrid(model.regParam, [0.01, 0.1, 0.25, 0.5]).build()\n",
        "  \n",
        "  #Evaluating criteria for selecting the best set of hyperparameters\n",
        "  evaluator = RegressionEvaluator(metricName=\"rmse\", labelCol=\"rating\", predictionCol=\"prediction\")\n",
        "  \n",
        "  #Trying all combinations of hyperparameters and determining best model using evaluator\n",
        "  hyper_para = CrossValidator(estimator = model, estimatorParamMaps = param_grid, evaluator = evaluator, numFolds= 5)\n",
        "  \n",
        "  #Choosing the best set of hyperparameters from cross validation\n",
        "  final_model = hyper_para.fit(train_set)\n",
        "  \n",
        "  return final_model\n",
        "\n",
        "\n",
        "def predict_als_model(model, test_set):\n",
        "  predict = model.bestModel.transform(test_set)\n",
        "  \n",
        "  # Capped the predictions that exceed 5 to the max rating 5\n",
        "  predict = predict.withColumn('prediction', when(col('prediction') > 5, 5).otherwise(col('prediction')))\n",
        "  predict = predict.withColumn('prediction', when(col('prediction') <1, 1).otherwise(col('prediction')))\n",
        "  predict = predict.select(\"*\").toPandas()\n",
        "  predict[\"relevant_actual\"]= np.where(predict['rating']>=3.5, 1, 0)\n",
        "  predict[\"relevant_prediction\"]= np.where(predict['prediction']>=3.5, 1, 0)\n",
        "  precision = precision_score(predict[\"relevant_actual\"], predict[\"relevant_prediction\"])\n",
        "  \n",
        "  return precision, predict\n",
        "\n",
        "\n",
        "\n",
        "def als_baseline_precision_func(train_set, test_set, results):\n",
        "\n",
        "  sc = SparkContext()\n",
        "  sqlContext = SQLContext(sc)\n",
        "  ratings_training_sc = sqlContext.createDataFrame(train_set)\n",
        "  ratings_test_sc = sqlContext.createDataFrame(test_set)\n",
        "  ratings_test_sc = ratings_test_sc.select(['userId', 'movieId', 'rating', 'timestamp'])\n",
        "\n",
        "  model = train_als_model(ratings_training_sc)\n",
        "  als_baseline_precision_, predictions_als_test_ = predict_als_model(model, ratings_test_sc)\n",
        "  results['Precision_Score'].iloc[1] = als_baseline_precision_\n",
        "\n",
        "  return predictions_als_test_, model\n",
        "\n",
        "predictions_als_test, model = als_baseline_precision_func(df_train, df_test, results)\n"
      ],
      "execution_count": null,
      "outputs": []
    },
    {
      "cell_type": "markdown",
      "metadata": {
        "id": "8aamrGqmEMc8"
      },
      "source": [
        "##Hyperparameter Tuning\n",
        "\n",
        "To obtain the best results, we trained models with different combinations of rank adn regParam values. The RMSE values obtained fron these trfained models with different hyperparameters will further give us an indication of how our model performances and if there is a need to further tune the parameters. The best fit model obtained from this part would then be used for predictions and recommendations."
      ]
    },
    {
      "cell_type": "code",
      "metadata": {
        "id": "7bHbAh5rDxsd"
      },
      "source": [
        "params = [{k.name: v for k, v in i.items()} for i in model.getEstimatorParamMaps()]\n",
        "result = pd.DataFrame.from_dict([{model.getEvaluator().getMetricName(): metric, **i} for i, metric in zip(params, model.avgMetrics)])\n",
        "# result"
      ],
      "execution_count": null,
      "outputs": []
    },
    {
      "cell_type": "markdown",
      "metadata": {
        "id": "0Iw7ERqYsFHM"
      },
      "source": [
        "##RMSE "
      ]
    },
    {
      "cell_type": "code",
      "metadata": {
        "id": "Sr5pY3WZEbnv",
        "colab": {
          "base_uri": "https://localhost:8080/",
          "height": 452
        },
        "outputId": "ec42d932-9fdf-4fa1-8de6-92c675d77546"
      },
      "source": [
        "plt.subplots_adjust(0.1, 0.1, 2, 1.4)\n",
        "plt.subplot(1, 2, 1)\n",
        "plt.plot(result['rank'].unique(), result.groupby(['rank']).min()['rmse'], marker = 'o')\n",
        "plt.title('Impact of Increasing Latent Factors on RMSE')\n",
        "plt.xlabel('Number of Latent Factors')\n",
        "plt.ylabel('RMSE')\n",
        "\n",
        "plt.subplot(1, 2, 2)\n",
        "plt.plot(result['regParam'].unique(), result.groupby(['regParam']).min()['rmse'], marker = 'o')\n",
        "plt.title('Impact of Increasing Regularization Penalty on RMSE')\n",
        "plt.xlabel('Regularization Penalty')\n",
        "plt.ylabel('RMSE')\n",
        "\n",
        "plt.show()"
      ],
      "execution_count": 63,
      "outputs": [
        {
          "output_type": "display_data",
          "data": {
            "image/png": "[encoded data removed]",
            "text/plain": [
              "<Figure size 432x288 with 2 Axes>"
            ]
          },
          "metadata": {
            "tags": [],
            "needs_background": "light"
          }
        }
      ]
    },
    {
      "cell_type": "markdown",
      "metadata": {
        "id": "oOSoto0jr20j"
      },
      "source": [
        "#Hybrid Recommendation System\n",
        "\n",
        "We are using a series hybrid model with 2 stages to create our final recommendation system.\n",
        "In stage 1 of this model we have used ALS technique which is based on the previously explained ALS model.\n",
        "Using the ALS prediction on the test data, we calculated the absolute error between predicted & actual ratings. For each user we sorted the movies based on the absolute error (ascending order) and predicted rating (descending order) to filter top 30 movies for each user.\n",
        "\n",
        "In stage 2, we introduced genres of these movies and recommended similar movies to each user based on the genre of the movie they searched for. We used content-based algorithm and have leveraged the cosine-similarity scores between movies to recommend 10 most similar movies (with highest cosine similarity scores)."
      ]
    },
    {
      "cell_type": "markdown",
      "metadata": {
        "id": "kGmPPE-DszuG"
      },
      "source": [
        "##Stage 1: ALS Model\n",
        "\n"
      ]
    },
    {
      "cell_type": "code",
      "metadata": {
        "id": "ZHesGkuU8rZM"
      },
      "source": [
        "def hybrid_model_step2(test_set, als_predictions = predictions_als_test):\n",
        "  als_predictions['abs_error'] = (als_predictions['rating'] - als_predictions['prediction']).abs()\n",
        "  als_predictions = als_predictions.sort_values(by = ['userId', 'rating', 'abs_error'], ascending=[True, False, True])\n",
        "  p_small_ = als_predictions.groupby('userId').head(30).reset_index(drop=True)\n",
        "\n",
        "\n",
        "  return p_small_\n",
        "\n"
      ],
      "execution_count": 40,
      "outputs": []
    },
    {
      "cell_type": "code",
      "metadata": {
        "id": "_m1qY63MTAGS"
      },
      "source": [
        "# p_small = hybrid_model_step2(model, df_test)"
      ],
      "execution_count": 69,
      "outputs": []
    },
    {
      "cell_type": "markdown",
      "metadata": {
        "id": "k9XzNKugq_AQ"
      },
      "source": [
        "##Stage 2: Content-Based Algorithm\n",
        "</br>Taking top 30 movies for each user based on predicted ratings and the absolute error from the actual rating\n"
      ]
    },
    {
      "cell_type": "code",
      "metadata": {
        "id": "KRMRjvsggRCi"
      },
      "source": [
        "def user_recommendation_cb_model(user, df, title_search):\n",
        "  df = df[df.userId == user].reset_index()\n",
        "  \n",
        "  df['genres'] = df['genres'].str.split('|')\n",
        "  df['genres'] = df['genres'].fillna(\"\").astype('str')\n",
        "  \n",
        "  tf = TfidfVectorizer(analyzer='word',ngram_range=(1, 2),min_df=0, stop_words='english')\n",
        "  tfidf_matrix = tf.fit_transform(df['genres'])\n",
        "  tfidf_matrix.shape\n",
        "\n",
        "  \n",
        "  cosine_sim = linear_kernel(tfidf_matrix, tfidf_matrix)\n",
        "  # print(cosine_sim.shape)\n",
        "\n",
        "  titles = df['title']\n",
        "  indices = pd.Series(df.index, index=titles)\n",
        "\n",
        "  def genre_recommendations(title):\n",
        "    idx = indices[title]\n",
        "    sim_scores = list(enumerate(cosine_sim[idx]))\n",
        "    sim_scores = sorted(sim_scores, key=lambda x: x[1], reverse=True)\n",
        "    sim_scores = sim_scores[1:10]\n",
        "    movie_indices = [i[0] for i in sim_scores]\n",
        "    return titles.iloc[movie_indices]\n",
        "  \n",
        "  return (genre_recommendations(title_search).head(10))"
      ],
      "execution_count": 41,
      "outputs": []
    },
    {
      "cell_type": "markdown",
      "metadata": {
        "id": "Tb9Kh10qAGYa"
      },
      "source": [
        "##FINAL RECOMMENDATION"
      ]
    },
    {
      "cell_type": "code",
      "metadata": {
        "id": "rCYxjqXCYtWE"
      },
      "source": [
        "def final_hybrid_recommendation(user, title_search,test_set,movies_df):\n",
        "  p_small = hybrid_model_step2(test_set)\n",
        "  content_df = p_small.merge(movies_df, how='left', on='movieId')\n",
        "  user_recommendations = user_recommendation_cb_model(user, content_df, title_search)\n",
        "\n",
        "  return p_small, user_recommendations\n"
      ],
      "execution_count": 55,
      "outputs": []
    },
    {
      "cell_type": "code",
      "metadata": {
        "colab": {
          "base_uri": "https://localhost:8080/",
          "height": 0
        },
        "id": "myTmEXwmVgNZ",
        "outputId": "abe4dd88-7899-43fc-a249-88bcecd2ae04"
      },
      "source": [
        "#Example run\n",
        "p_small, user_recommendations = final_hybrid_recommendation(56, 'Lord of War (2005)', df_test, movies)\n",
        "user_recommendations"
      ],
      "execution_count": 56,
      "outputs": [
        {
          "output_type": "execute_result",
          "data": {
            "text/plain": [
              "20            In Bruges (2008)\n",
              "14               Breach (2007)\n",
              "23          Wild Things (1998)\n",
              "4         Cross of Iron (1977)\n",
              "12     Longest Day, The (1962)\n",
              "22    National Treasure (2004)\n",
              "3                  Kids (1995)\n",
              "6           Frost/Nixon (2008)\n",
              "8         Little Buddha (1993)\n",
              "Name: title, dtype: object"
            ]
          },
          "metadata": {
            "tags": []
          },
          "execution_count": 56
        }
      ]
    },
    {
      "cell_type": "code",
      "metadata": {
        "id": "D9eB9-HxgS1c"
      },
      "source": [
        "##Precision function\n",
        "\n",
        "def row(x,xdf,sim):\n",
        "  titles = xdf['title']\n",
        "  indices = pd.Series(xdf.index, index=titles)\n",
        "  idx = indices[x['title']]\n",
        "  sim_scores = list(enumerate(sim[idx]))\n",
        "  sim_scores = sorted(sim_scores, key=lambda x: x[1], reverse=True)\n",
        "  sim_scores = sim_scores[1:10]\n",
        "  list_ = []\n",
        "  for score in sim_scores:\n",
        "    if score[1] >= 0.25: #################### CAN CHANGE 0.1 IN FUTURE ###################\n",
        "      list_.append(1)\n",
        "    else: \n",
        "      list_.append(0)\n",
        "  precision = np.sum(list_)/len(list_)\n",
        "  movie_indices = [i[0] for i in sim_scores]\n",
        "  \n",
        "  return list(titles.iloc[movie_indices]), list_, precision.round(2)\n",
        "\n",
        "\n",
        "##precision\n",
        "\n",
        "def cb_model_precision(test_set, movies_df,results):\n",
        "  p_small = hybrid_model_step2(test_set)\n",
        "  whole_df = p_small.merge(movies_df, how='left', on='movieId')\n",
        "  return_df = pd.DataFrame()\n",
        "  all_users = whole_df.userId.unique()\n",
        "  for user in all_users:\n",
        "    user_df = whole_df[whole_df.userId == user].reset_index()\n",
        "    user_df['genres'] = user_df['genres'].str.split('|')\n",
        "    user_df['genres'] = user_df['genres'].fillna(\"\").astype('str')\n",
        "\n",
        "    tf = TfidfVectorizer(analyzer='word',ngram_range=(1, 2),min_df=0, stop_words='english')\n",
        "    tfidf_matrix = tf.fit_transform(user_df['genres'])\n",
        "    \n",
        "    cosine_sim = linear_kernel(tfidf_matrix, tfidf_matrix)\n",
        "    \n",
        "    user_df['recommendations'], user_df['prec_list'], user_df['precision'] = zip(*user_df.apply(lambda x: row(x,user_df,cosine_sim), axis=1))\n",
        "    \n",
        "    return_df = return_df.append(user_df)\n",
        "    precision = return_df['precision'].mean()\n",
        "    results['Precision_Score'].iloc[2] = precision\n",
        "\n",
        "  return return_df"
      ],
      "execution_count": 57,
      "outputs": []
    },
    {
      "cell_type": "markdown",
      "metadata": {
        "id": "32k5_SCeFOaF"
      },
      "source": [
        "The above function for Hybrid precision returns the below data frame which contains the recommendation for each user search, the precision list based on 0.25 cosine similarity threshold (which was a good option based on the distribution we tested and it can be changed in future when we add more data points), and the precision score for each user recommendation. The overall model precision score is calculated by taking an average of the all the precisions scores.\n",
        "\n",
        "We tried reducing the threshold to 0.2 and 0.1 which increased precision score only because we categorize mpre movies as \"similar\" at lower thresholds. "
      ]
    },
    {
      "cell_type": "code",
      "metadata": {
        "colab": {
          "base_uri": "https://localhost:8080/",
          "height": 864
        },
        "id": "lWh0oolYb5D_",
        "outputId": "48fdea89-0b1d-4170-a6bf-92e389558e2d"
      },
      "source": [
        "#precision\n",
        "final = cb_model_precision(df_test, movies, results)\n",
        "final"
      ],
      "execution_count": 58,
      "outputs": [
        {
          "output_type": "execute_result",
          "data": {
            "text/html": [
              "<div>\n",
              "<style scoped>\n",
              "    .dataframe tbody tr th:only-of-type {\n",
              "        vertical-align: middle;\n",
              "    }\n",
              "\n",
              "    .dataframe tbody tr th {\n",
              "        vertical-align: top;\n",
              "    }\n",
              "\n",
              "    .dataframe thead th {\n",
              "        text-align: right;\n",
              "    }\n",
              "</style>\n",
              "<table border=\"1\" class=\"dataframe\">\n",
              "  <thead>\n",
              "    <tr style=\"text-align: right;\">\n",
              "      <th></th>\n",
              "      <th>index</th>\n",
              "      <th>userId</th>\n",
              "      <th>movieId</th>\n",
              "      <th>rating</th>\n",
              "      <th>timestamp</th>\n",
              "      <th>prediction</th>\n",
              "      <th>relevant_actual</th>\n",
              "      <th>relevant_prediction</th>\n",
              "      <th>abs_error</th>\n",
              "      <th>title</th>\n",
              "      <th>genres</th>\n",
              "      <th>recommendations</th>\n",
              "      <th>prec_list</th>\n",
              "      <th>precision</th>\n",
              "    </tr>\n",
              "  </thead>\n",
              "  <tbody>\n",
              "    <tr>\n",
              "      <th>0</th>\n",
              "      <td>0</td>\n",
              "      <td>56</td>\n",
              "      <td>6957</td>\n",
              "      <td>5.0</td>\n",
              "      <td>2010</td>\n",
              "      <td>2.576570</td>\n",
              "      <td>1</td>\n",
              "      <td>0</td>\n",
              "      <td>2.423430</td>\n",
              "      <td>Bad Santa (2003)</td>\n",
              "      <td>['Comedy', 'Crime']</td>\n",
              "      <td>(Ocean's Eleven (a.k.a. Ocean's 11) (1960), In...</td>\n",
              "      <td>(1, 1, 1, 0, 0, 0, 0, 0, 0)</td>\n",
              "      <td>0.33</td>\n",
              "    </tr>\n",
              "    <tr>\n",
              "      <th>1</th>\n",
              "      <td>1</td>\n",
              "      <td>56</td>\n",
              "      <td>1274</td>\n",
              "      <td>4.5</td>\n",
              "      <td>2010</td>\n",
              "      <td>3.211203</td>\n",
              "      <td>1</td>\n",
              "      <td>0</td>\n",
              "      <td>1.288797</td>\n",
              "      <td>Akira (1988)</td>\n",
              "      <td>['Action', 'Adventure', 'Animation', 'Sci-Fi']</td>\n",
              "      <td>(Lilo &amp; Stitch (2002), Dune (1984), Ben-Hur (1...</td>\n",
              "      <td>(1, 1, 1, 1, 1, 1, 1, 0, 0)</td>\n",
              "      <td>0.78</td>\n",
              "    </tr>\n",
              "    <tr>\n",
              "      <th>2</th>\n",
              "      <td>2</td>\n",
              "      <td>56</td>\n",
              "      <td>1287</td>\n",
              "      <td>4.5</td>\n",
              "      <td>2010</td>\n",
              "      <td>3.077835</td>\n",
              "      <td>1</td>\n",
              "      <td>0</td>\n",
              "      <td>1.422165</td>\n",
              "      <td>Ben-Hur (1959)</td>\n",
              "      <td>['Action', 'Adventure', 'Drama']</td>\n",
              "      <td>(National Treasure (2004), Akira (1988), Kids ...</td>\n",
              "      <td>(1, 1, 1, 1, 1, 0, 0, 0, 0)</td>\n",
              "      <td>0.56</td>\n",
              "    </tr>\n",
              "    <tr>\n",
              "      <th>3</th>\n",
              "      <td>3</td>\n",
              "      <td>56</td>\n",
              "      <td>175</td>\n",
              "      <td>4.0</td>\n",
              "      <td>2010</td>\n",
              "      <td>3.214040</td>\n",
              "      <td>1</td>\n",
              "      <td>0</td>\n",
              "      <td>0.785960</td>\n",
              "      <td>Kids (1995)</td>\n",
              "      <td>['Drama']</td>\n",
              "      <td>(Frost/Nixon (2008), Little Buddha (1993), Bre...</td>\n",
              "      <td>(1, 1, 1, 1, 1, 1, 1, 1, 0)</td>\n",
              "      <td>0.89</td>\n",
              "    </tr>\n",
              "    <tr>\n",
              "      <th>4</th>\n",
              "      <td>4</td>\n",
              "      <td>56</td>\n",
              "      <td>3339</td>\n",
              "      <td>4.0</td>\n",
              "      <td>2011</td>\n",
              "      <td>3.208372</td>\n",
              "      <td>1</td>\n",
              "      <td>0</td>\n",
              "      <td>0.791628</td>\n",
              "      <td>Cross of Iron (1977)</td>\n",
              "      <td>['War']</td>\n",
              "      <td>(Longest Day, The (1962), Lord of War (2005), ...</td>\n",
              "      <td>(1, 1, 0, 0, 0, 0, 0, 0, 0)</td>\n",
              "      <td>0.22</td>\n",
              "    </tr>\n",
              "    <tr>\n",
              "      <th>...</th>\n",
              "      <td>...</td>\n",
              "      <td>...</td>\n",
              "      <td>...</td>\n",
              "      <td>...</td>\n",
              "      <td>...</td>\n",
              "      <td>...</td>\n",
              "      <td>...</td>\n",
              "      <td>...</td>\n",
              "      <td>...</td>\n",
              "      <td>...</td>\n",
              "      <td>...</td>\n",
              "      <td>...</td>\n",
              "      <td>...</td>\n",
              "      <td>...</td>\n",
              "    </tr>\n",
              "    <tr>\n",
              "      <th>25</th>\n",
              "      <td>38335</td>\n",
              "      <td>283095</td>\n",
              "      <td>53460</td>\n",
              "      <td>0.5</td>\n",
              "      <td>2015</td>\n",
              "      <td>1.781342</td>\n",
              "      <td>0</td>\n",
              "      <td>0</td>\n",
              "      <td>1.281342</td>\n",
              "      <td>Surf's Up (2007)</td>\n",
              "      <td>['Animation', 'Children', 'Comedy']</td>\n",
              "      <td>(Tangled (2010), Lilo &amp; Stitch (2002), Scooby-...</td>\n",
              "      <td>(1, 1, 1, 0, 0, 0, 0, 0, 0)</td>\n",
              "      <td>0.33</td>\n",
              "    </tr>\n",
              "    <tr>\n",
              "      <th>26</th>\n",
              "      <td>38336</td>\n",
              "      <td>283095</td>\n",
              "      <td>5444</td>\n",
              "      <td>0.5</td>\n",
              "      <td>2015</td>\n",
              "      <td>1.806095</td>\n",
              "      <td>0</td>\n",
              "      <td>0</td>\n",
              "      <td>1.306095</td>\n",
              "      <td>Lilo &amp; Stitch (2002)</td>\n",
              "      <td>['Adventure', 'Animation', 'Children', 'Sci-Fi']</td>\n",
              "      <td>(Surf's Up (2007), Appleseed (Appurushîdo) (20...</td>\n",
              "      <td>(1, 1, 1, 1, 0, 0, 0, 0, 0)</td>\n",
              "      <td>0.44</td>\n",
              "    </tr>\n",
              "    <tr>\n",
              "      <th>27</th>\n",
              "      <td>38337</td>\n",
              "      <td>283095</td>\n",
              "      <td>37729</td>\n",
              "      <td>0.5</td>\n",
              "      <td>2015</td>\n",
              "      <td>1.828037</td>\n",
              "      <td>0</td>\n",
              "      <td>0</td>\n",
              "      <td>1.328037</td>\n",
              "      <td>Corpse Bride (2005)</td>\n",
              "      <td>['Animation', 'Comedy', 'Fantasy', 'Musical', ...</td>\n",
              "      <td>(Tangled (2010), Walk the Line (2005), Bewitch...</td>\n",
              "      <td>(1, 1, 1, 1, 0, 0, 0, 0, 0)</td>\n",
              "      <td>0.44</td>\n",
              "    </tr>\n",
              "    <tr>\n",
              "      <th>28</th>\n",
              "      <td>38338</td>\n",
              "      <td>283095</td>\n",
              "      <td>81847</td>\n",
              "      <td>0.5</td>\n",
              "      <td>2015</td>\n",
              "      <td>1.885005</td>\n",
              "      <td>0</td>\n",
              "      <td>0</td>\n",
              "      <td>1.385005</td>\n",
              "      <td>Tangled (2010)</td>\n",
              "      <td>['Animation', 'Children', 'Comedy', 'Fantasy',...</td>\n",
              "      <td>(Corpse Bride (2005), Surf's Up (2007), Scooby...</td>\n",
              "      <td>(1, 1, 1, 1, 1, 1, 1, 0, 0)</td>\n",
              "      <td>0.78</td>\n",
              "    </tr>\n",
              "    <tr>\n",
              "      <th>29</th>\n",
              "      <td>38339</td>\n",
              "      <td>283095</td>\n",
              "      <td>31184</td>\n",
              "      <td>0.5</td>\n",
              "      <td>2015</td>\n",
              "      <td>1.987876</td>\n",
              "      <td>0</td>\n",
              "      <td>0</td>\n",
              "      <td>1.487876</td>\n",
              "      <td>Appleseed (Appurushîdo) (2004)</td>\n",
              "      <td>['Action', 'Animation', 'Fantasy', 'Sci-Fi']</td>\n",
              "      <td>(Lilo &amp; Stitch (2002), Godzilla (2014), Corpse...</td>\n",
              "      <td>(1, 1, 0, 0, 0, 0, 0, 0, 0)</td>\n",
              "      <td>0.22</td>\n",
              "    </tr>\n",
              "  </tbody>\n",
              "</table>\n",
              "<p>38340 rows × 14 columns</p>\n",
              "</div>"
            ],
            "text/plain": [
              "    index  userId  ...                    prec_list  precision\n",
              "0       0      56  ...  (1, 1, 1, 0, 0, 0, 0, 0, 0)       0.33\n",
              "1       1      56  ...  (1, 1, 1, 1, 1, 1, 1, 0, 0)       0.78\n",
              "2       2      56  ...  (1, 1, 1, 1, 1, 0, 0, 0, 0)       0.56\n",
              "3       3      56  ...  (1, 1, 1, 1, 1, 1, 1, 1, 0)       0.89\n",
              "4       4      56  ...  (1, 1, 0, 0, 0, 0, 0, 0, 0)       0.22\n",
              "..    ...     ...  ...                          ...        ...\n",
              "25  38335  283095  ...  (1, 1, 1, 0, 0, 0, 0, 0, 0)       0.33\n",
              "26  38336  283095  ...  (1, 1, 1, 1, 0, 0, 0, 0, 0)       0.44\n",
              "27  38337  283095  ...  (1, 1, 1, 1, 0, 0, 0, 0, 0)       0.44\n",
              "28  38338  283095  ...  (1, 1, 1, 1, 1, 1, 1, 0, 0)       0.78\n",
              "29  38339  283095  ...  (1, 1, 0, 0, 0, 0, 0, 0, 0)       0.22\n",
              "\n",
              "[38340 rows x 14 columns]"
            ]
          },
          "metadata": {
            "tags": []
          },
          "execution_count": 58
        }
      ]
    },
    {
      "cell_type": "markdown",
      "metadata": {
        "id": "0KGyqx8xGjuv"
      },
      "source": [
        "#Model Performance\n",
        "<br><br>**1) Results Table**</b>\n",
        "\n",
        "The precision score for each model:"
      ]
    },
    {
      "cell_type": "code",
      "metadata": {
        "colab": {
          "base_uri": "https://localhost:8080/",
          "height": 0
        },
        "id": "9jS8O8hCG0Kk",
        "outputId": "eb017ddc-388f-4c4c-bd4a-b8e89ad9b23b"
      },
      "source": [
        "print(results)"
      ],
      "execution_count": 48,
      "outputs": [
        {
          "output_type": "stream",
          "text": [
            "          Model Precision_Score\n",
            "0      Baseline        0.846974\n",
            "1  Baseline_ALS         0.86693\n",
            "2        Hybrid        0.562106\n"
          ],
          "name": "stdout"
        }
      ]
    },
    {
      "cell_type": "markdown",
      "metadata": {
        "id": "8QtPVZyViU1J"
      },
      "source": [
        "<br><br>1) User Coverage</b>\n",
        "<br>\n",
        "User Coverage is the fraction of users for which at least k items can be recommended well. We first define what is a good recommendation - for our project it is recommended movies with rating > 3.5 and we will look at k = 5 movies. So essentially look at how many users were recommended atleast 5 good movies in their top 10 recommendations."
      ]
    },
    {
      "cell_type": "code",
      "metadata": {
        "id": "nJHoQs6aNshK"
      },
      "source": [
        "def row2(x,df,user):\n",
        "  list_ = x['recommendations']\n",
        "  pred = []\n",
        "  for item in list_:\n",
        "    ans = df[(df['title'] == item) & (df['userId'] == user)]['prediction']\n",
        "    # print(type(ans))\n",
        "    pred.extend(list(ans))\n",
        "  list_2 = []\n",
        "  sum_ = 0\n",
        "\n",
        "  if len([i for i in pred if i>3.5]) > 5:\n",
        "    coverage_ = 1\n",
        "  else:\n",
        "    coverage_ = 0\n",
        "  return coverage_\n",
        "\n",
        "def hybrid_coverage(hybrid_return, df):\n",
        "  df = df.merge(movies[['movieId','title']], how='left', on='movieId')\n",
        "  hybrid_return_ = hybrid_return.drop(columns = [\"genres\", \"prec_list\", \"precision\"])\n",
        "\n",
        "  ret_df = pd.DataFrame()\n",
        "  all_users = hybrid_return_.userId.unique()\n",
        "  i=0\n",
        "  for user in all_users:\n",
        "    i += 1\n",
        "    print(\"running for user: \", i)\n",
        "    user_df = hybrid_return_[hybrid_return_['userId'] == user].reset_index()\n",
        "    user_df['coverage'] = user_df.apply(lambda x: row2(x,df, user), axis=1)\n",
        "    ret_df = ret_df.append(user_df)\n",
        "  \n",
        "  coverage = ret_df['coverage'].mean()\n",
        "  return coverage\n"
      ],
      "execution_count": 83,
      "outputs": []
    },
    {
      "cell_type": "code",
      "metadata": {
        "colab": {
          "base_uri": "https://localhost:8080/",
          "height": 0
        },
        "id": "mS6m9w7POnQJ",
        "outputId": "e210946e-48ee-4e90-ef9a-54c63ebb0c48"
      },
      "source": [
        "coverage = hybrid_coverage(final, p_small)\n",
        "print(coverage)"
      ],
      "execution_count": 85,
      "outputs": [
        {
          "output_type": "stream",
          "text": [
            "0.24580073030777255\n"
          ],
          "name": "stdout"
        }
      ]
    },
    {
      "cell_type": "markdown",
      "metadata": {
        "id": "FVR1JW0Dl8mO"
      },
      "source": [
        "<b>2) Novelty</b>\r\n",
        "<br>\r\n",
        "Novelty measures how new or unknown recommendations are to a user. An individual item's novelty can be calculated as the log of the popularity of the item. A user's overal novelty is then the sum of the novelty of all items. \r\n",
        "<br><br>Our function returns:         \r\n",
        "*   avg_overall_novelty: the average amount of novelty over\r\n",
        "*   avg_novelty: the average user's amount of novelty over their recommended items        "
      ]
    },
    {
      "cell_type": "code",
      "metadata": {
        "colab": {
          "base_uri": "https://localhost:8080/",
          "height": 0
        },
        "id": "sE_Ec3arEmH4",
        "outputId": "a613a795-9307-4ff6-b016-bd6470c6e0ee"
      },
      "source": [
        "data_ = df.merge(movies[['movieId', 'title']], on = 'movieId')\n",
        "movie_popularity = data_.groupby('title')['rating'].count().reset_index()\n",
        "movie_popularity = movie_popularity.rename(columns={'rating':'counts'})\n",
        "movie_popularity['popular'] = np.where(movie_popularity['counts'] > 200, 1, 0)\n",
        "\n",
        "movie_popularity['popular']"
      ],
      "execution_count": 86,
      "outputs": [
        {
          "output_type": "execute_result",
          "data": {
            "text/plain": [
              "0      1\n",
              "1      1\n",
              "2      1\n",
              "3      0\n",
              "4      0\n",
              "      ..\n",
              "795    1\n",
              "796    0\n",
              "797    0\n",
              "798    1\n",
              "799    1\n",
              "Name: popular, Length: 800, dtype: int64"
            ]
          },
          "metadata": {
            "tags": []
          },
          "execution_count": 86
        }
      ]
    },
    {
      "cell_type": "code",
      "metadata": {
        "colab": {
          "base_uri": "https://localhost:8080/",
          "height": 0
        },
        "id": "XTS-S0NjUr45",
        "outputId": "002d712b-fc6f-4df6-cd57-76e60e7c3545"
      },
      "source": [
        "movie_popularity['counts'].median()\n"
      ],
      "execution_count": 89,
      "outputs": [
        {
          "output_type": "execute_result",
          "data": {
            "text/plain": [
              "0.36625"
            ]
          },
          "metadata": {
            "tags": []
          },
          "execution_count": 89
        }
      ]
    },
    {
      "cell_type": "code",
      "metadata": {
        "colab": {
          "base_uri": "https://localhost:8080/",
          "height": 80
        },
        "id": "57gwPFTZH6NE",
        "outputId": "5515c2c6-5650-469a-9cc1-a64110c631fe"
      },
      "source": [
        "movie_popularity[movie_popularity['title'] == 'Drugstore Cowboy (1989)']"
      ],
      "execution_count": 60,
      "outputs": [
        {
          "output_type": "execute_result",
          "data": {
            "text/html": [
              "<div>\n",
              "<style scoped>\n",
              "    .dataframe tbody tr th:only-of-type {\n",
              "        vertical-align: middle;\n",
              "    }\n",
              "\n",
              "    .dataframe tbody tr th {\n",
              "        vertical-align: top;\n",
              "    }\n",
              "\n",
              "    .dataframe thead th {\n",
              "        text-align: right;\n",
              "    }\n",
              "</style>\n",
              "<table border=\"1\" class=\"dataframe\">\n",
              "  <thead>\n",
              "    <tr style=\"text-align: right;\">\n",
              "      <th></th>\n",
              "      <th>title</th>\n",
              "      <th>counts</th>\n",
              "      <th>popular</th>\n",
              "    </tr>\n",
              "  </thead>\n",
              "  <tbody>\n",
              "    <tr>\n",
              "      <th>54</th>\n",
              "      <td>Drugstore Cowboy (1989)</td>\n",
              "      <td>240</td>\n",
              "      <td>1</td>\n",
              "    </tr>\n",
              "  </tbody>\n",
              "</table>\n",
              "</div>"
            ],
            "text/plain": [
              "                      title  counts  popular\n",
              "54  Drugstore Cowboy (1989)     240        1"
            ]
          },
          "metadata": {
            "tags": []
          },
          "execution_count": 60
        }
      ]
    },
    {
      "cell_type": "code",
      "metadata": {
        "id": "Zv6OXXSfmAzh"
      },
      "source": [
        "def row3(x,df,user):\r\n",
        "  list_ = x['recommendations']\r\n",
        "  pred = []\r\n",
        "  for item in list_:\r\n",
        "    # print(item)\r\n",
        "    ans = df[(df['title'] == item)]['popular']\r\n",
        "    # print(ans)\r\n",
        "    pred.extend(list(ans))\r\n",
        "  # print(pred)\r\n",
        "  novelty = (pred.count(0)/len(pred))\r\n",
        "  return pred , novelty\r\n",
        "\r\n",
        "def hybrid_novelty(hybrid_return, df):\r\n",
        "  data_ = df.merge(movies[['movieId', 'title']], on = 'movieId')\r\n",
        "  movie_popularity = data_.groupby('title')['rating'].count().reset_index()\r\n",
        "  movie_popularity = movie_popularity.rename(columns={'rating':'counts'})\r\n",
        "  movie_popularity['popular'] = np.where(movie_popularity['counts'] > 200, 1, 0)\r\n",
        "  # print(movie_popularity.head(20))\r\n",
        "  hybrid_return_ = hybrid_return.drop(columns = [\"genres\", \"prec_list\", \"precision\"])\r\n",
        "\r\n",
        "  ret_df = pd.DataFrame()\r\n",
        "  all_users = hybrid_return_.userId.unique()\r\n",
        "  for user in all_users:\r\n",
        "    user_df = hybrid_return_[hybrid_return_['userId'] == user].reset_index()\r\n",
        "    user_df['popular'], user_df['novelty']= zip(*user_df.apply(lambda x: row3(x,movie_popularity, user), axis=1))\r\n",
        "    ret_df = ret_df.append(user_df)\r\n",
        "  novelty = ret_df['novelty'].mean()\r\n",
        "    # print(ret_df)\r\n",
        "  \r\n",
        "  return novelty"
      ],
      "execution_count": 94,
      "outputs": []
    },
    {
      "cell_type": "code",
      "metadata": {
        "colab": {
          "base_uri": "https://localhost:8080/",
          "height": 0
        },
        "id": "ULln1HoFZtlz",
        "outputId": "3eb4643d-7508-4b91-bb9f-265ae24e3c27"
      },
      "source": [
        "hybrid_novelty(final, df)"
      ],
      "execution_count": 95,
      "outputs": [
        {
          "output_type": "execute_result",
          "data": {
            "text/plain": [
              "0.2603141482641678"
            ]
          },
          "metadata": {
            "tags": []
          },
          "execution_count": 95
        }
      ]
    },
    {
      "cell_type": "markdown",
      "metadata": {
        "id": "E0tNOS3EmJzO"
      },
      "source": [
        "<b>Table with all performance metrics for all model(s)</b>"
      ]
    },
    {
      "cell_type": "code",
      "metadata": {
        "id": "615srVSMmKDX",
        "colab": {
          "base_uri": "https://localhost:8080/",
          "height": 142
        },
        "outputId": "5c7c504f-98ce-4efb-b1e9-dd949756fba5"
      },
      "source": [
        "results"
      ],
      "execution_count": 96,
      "outputs": [
        {
          "output_type": "execute_result",
          "data": {
            "text/html": [
              "<div>\n",
              "<style scoped>\n",
              "    .dataframe tbody tr th:only-of-type {\n",
              "        vertical-align: middle;\n",
              "    }\n",
              "\n",
              "    .dataframe tbody tr th {\n",
              "        vertical-align: top;\n",
              "    }\n",
              "\n",
              "    .dataframe thead th {\n",
              "        text-align: right;\n",
              "    }\n",
              "</style>\n",
              "<table border=\"1\" class=\"dataframe\">\n",
              "  <thead>\n",
              "    <tr style=\"text-align: right;\">\n",
              "      <th></th>\n",
              "      <th>Model</th>\n",
              "      <th>Precision_Score</th>\n",
              "    </tr>\n",
              "  </thead>\n",
              "  <tbody>\n",
              "    <tr>\n",
              "      <th>0</th>\n",
              "      <td>Baseline</td>\n",
              "      <td>0.846974</td>\n",
              "    </tr>\n",
              "    <tr>\n",
              "      <th>1</th>\n",
              "      <td>Baseline_ALS</td>\n",
              "      <td>0.86693</td>\n",
              "    </tr>\n",
              "    <tr>\n",
              "      <th>2</th>\n",
              "      <td>Hybrid</td>\n",
              "      <td>0.562106</td>\n",
              "    </tr>\n",
              "  </tbody>\n",
              "</table>\n",
              "</div>"
            ],
            "text/plain": [
              "          Model Precision_Score\n",
              "0      Baseline        0.846974\n",
              "1  Baseline_ALS         0.86693\n",
              "2        Hybrid        0.562106"
            ]
          },
          "metadata": {
            "tags": []
          },
          "execution_count": 96
        }
      ]
    },
    {
      "cell_type": "markdown",
      "metadata": {
        "id": "22pehjijsyDR"
      },
      "source": [
        "#Conclusion\n",
        "\n",
        "The above results table shows the precision scores for each model we have tried: average baseline, ALS baseline and Hybrid model. The results conclude that the ALSE model outperforms the other two models. Hence introducing content-based algorithm in the second stage of the hybrid model did not improve the performance of the ALS model. This could be explained through various reasons which have been included in out potential watchouts below.\n",
        "\n",
        "Also looking at the coverage and novelty scores, the hybrid model could perform better as mentioned in potential watchouts.\n"
      ]
    },
    {
      "cell_type": "markdown",
      "metadata": {
        "id": "HYefaq4fsydb"
      },
      "source": [
        "#Potential Watchout\n",
        "\n",
        "\n",
        "1.   Our model currently only takes into consideration popular movies meaning movies that have good user engagement\n",
        "\n",
        "2.   We want to address the cold start problem so that we do not consider users who have less number of ratings. But how would the recommendation behave when there is a new user?\n",
        "\n",
        "3.   If a user has an unpredictable activity then what would the recommendation \n",
        "system suggest?\n",
        "\n",
        "4.   Based on the above problem, how to design a model that quickly adapts to the unpredictable activity or new user’s taste\n",
        "\n",
        "5.   With increasing sparsity in the data, how do we make the computation efficient and effective?\n",
        "\n",
        "6.   Our recommendation model doesn't provide recommendations for movies that are not currently present in the database\n",
        "\n"
      ]
    },
    {
      "cell_type": "markdown",
      "metadata": {
        "id": "urveGfHwwoaH"
      },
      "source": [
        "#Future Recommendations\n",
        "\n",
        "\n",
        "1.   Try advanced data sampling tecniques to better fit the model. Eg: can incorporate relevant business rules like movie location, language, year of release etc.\n",
        "\n",
        "2.   To improve content based model we can incorporate further information on movies such as their overview/summary, director, production company, language etc.\n",
        "\n",
        "3.  After ALS model, we have used absolute error in the rating and the predicted rating itself to sort and select top 50 movies for each user. A better metodology can be implemented to further improve this selection process\n"
      ]
    }
  ]
}